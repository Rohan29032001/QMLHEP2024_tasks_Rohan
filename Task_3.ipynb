{
 "cells": [
  {
   "cell_type": "markdown",
   "id": "e72ff019-b99d-4895-a000-744b3140c9a9",
   "metadata": {},
   "source": [
    "# Quantum Computing, Quantum Machine Learning, Familiar Algorithm (QSVM), Familiar Softwares, Goals with QML:\n",
    "\n",
    "Quantum Computing holds the promise of revolutionizing our approach to addressing some of humanity's most pressing 21st-century challenges, ranging from Climate Change to Cancer Research. However, many of these problems remain unsolvable within the constraints of classical computing due to resource limitations. Concurrently, Machine Learning has emerged as a transformative tool, allowing computers to autonomously learn and decipher complex phenomena without explicit knowledge of governing laws. The fusion of Quantum Computing and Machine Learning, known as Quantum Machine Learning (QML), represents a compelling frontier that has garnered significant attention and excitement within the research community. \n",
    "\n",
    "One prevalent approach involves integrating Quantum Computing into classical Machine Learning algorithms to leverage the inherent speed-ups offered by quantum systems. For instance, in Linear Classifiers, quantum kernels and feature maps facilitate mapping data into higher-dimensional spaces, where linear classifiers can operate more effectively. However the required computing resources grow really fast with an increase in dimensionality. Quantum computers help by accessing really high and complex dimensional spaces and provide the “Quantum Advantage.” I have used QSVM for MNIST classification. It yielded accuracy comparable to classical Radial Basis Function classifiers, suggesting the potential for quantum algorithms to outperform traditional counterparts with further refinement. I have a knowledge of QAOA, Quantum Autoencoders and Quantum Neural Networks in general. \n",
    "\n",
    "Quantum Machine Learning exhibits superior generalization capabilities, enabling robust training with fewer examples, thereby accelerating processes, particularly in data-deficient domains like certain areas of Geophysics. However, beyond mere enhancement of classical algorithms, there exists a compelling imperative to explore novel paradigms that leverage the intrinsic properties of the quantum realm. By reimagining the classical methods of \"learning,\" we can conceive entirely new algorithms untethered from classical methodologies. The vast potential inherent in this field beckons for active exploration and innovation, and I am eager to contribute. \n",
    "\n",
    "I am familar with Qiskit and Pennylane primarily and can work with Cirq too. \n",
    "\n",
    "As an aspiring geophysicist I plan make use of QML algorithms to solve real world problems and help mankind."
   ]
  }
 ],
 "metadata": {
  "kernelspec": {
   "display_name": "Python 3 (ipykernel)",
   "language": "python",
   "name": "python3"
  },
  "language_info": {
   "codemirror_mode": {
    "name": "ipython",
    "version": 3
   },
   "file_extension": ".py",
   "mimetype": "text/x-python",
   "name": "python",
   "nbconvert_exporter": "python",
   "pygments_lexer": "ipython3",
   "version": "3.11.7"
  }
 },
 "nbformat": 4,
 "nbformat_minor": 5
}
